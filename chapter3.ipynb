{
 "cells": [
  {
   "cell_type": "code",
   "execution_count": 12,
   "metadata": {},
   "outputs": [
    {
     "name": "stderr",
     "output_type": "stream",
     "text": [
      "WARNING: replacing module JLlayers.\n"
     ]
    }
   ],
   "source": [
    "include(\"./common/util.jl\")\n",
    "include(\"./common/layers.jl\")\n",
    "using Main.JLlayers"
   ]
  },
  {
   "cell_type": "markdown",
   "metadata": {},
   "source": [
    "## cbow predict"
   ]
  },
  {
   "cell_type": "code",
   "execution_count": 2,
   "metadata": {},
   "outputs": [
    {
     "data": {
      "text/plain": [
       "convert_one_hot (generic function with 1 method)"
      ]
     },
     "execution_count": 2,
     "metadata": {},
     "output_type": "execute_result"
    }
   ],
   "source": [
    "function convert_one_hot(corpus, vocab_size)\n",
    "    N, C = size(corpus)\n",
    "    if N == 1\n",
    "        one_hot = zeors(Int64, (N, vocab_size))\n",
    "        for (idx, word_id) in enumerate(corpus)\n",
    "            one_hot[idx, word_id] = 1\n",
    "        end\n",
    "    end\n",
    "    return one_hot\n",
    "end"
   ]
  },
  {
   "cell_type": "code",
   "execution_count": 20,
   "metadata": {},
   "outputs": [],
   "source": [
    "c0 = Float64[1 0 0 0 0 0 0];\n",
    "c1 = Float64[0 0 1 0 0 0 0];"
   ]
  },
  {
   "cell_type": "code",
   "execution_count": 25,
   "metadata": {},
   "outputs": [],
   "source": [
    "Win = randn(7, 3);\n",
    "Wout = randn(3, 7);"
   ]
  },
  {
   "cell_type": "code",
   "execution_count": 26,
   "metadata": {},
   "outputs": [],
   "source": [
    "in_layer0 = MatMulLayer(Win);\n",
    "in_layer1 = MatMulLayer(Win);\n",
    "out_layer = MatMulLayer(Wout);"
   ]
  },
  {
   "cell_type": "code",
   "execution_count": 28,
   "metadata": {},
   "outputs": [
    {
     "data": {
      "text/plain": [
       "1×7 Array{Float64,2}:\n",
       " 0.336436  -0.850251  -1.74741  2.0967  0.825206  1.02616  0.245175"
      ]
     },
     "execution_count": 28,
     "metadata": {},
     "output_type": "execute_result"
    }
   ],
   "source": [
    "h0 = forward(in_layer0, c0)\n",
    "h1 = forward(in_layer1, c1)\n",
    "h = 0.5 * (h0 + h1)\n",
    "s = forward(out_layer, h)"
   ]
  },
  {
   "cell_type": "markdown",
   "metadata": {},
   "source": [
    "## Simple CBOW"
   ]
  },
  {
   "cell_type": "code",
   "execution_count": null,
   "metadata": {},
   "outputs": [],
   "source": []
  }
 ],
 "metadata": {
  "kernelspec": {
   "display_name": "Julia 1.0.2",
   "language": "julia",
   "name": "julia-1.0"
  },
  "language_info": {
   "file_extension": ".jl",
   "mimetype": "application/julia",
   "name": "julia",
   "version": "1.0.2"
  }
 },
 "nbformat": 4,
 "nbformat_minor": 2
}
