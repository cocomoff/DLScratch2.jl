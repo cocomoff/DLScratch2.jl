{
 "cells": [
  {
   "cell_type": "code",
   "execution_count": 41,
   "metadata": {},
   "outputs": [],
   "source": [
    "using LinearAlgebra"
   ]
  },
  {
   "cell_type": "code",
   "execution_count": 1,
   "metadata": {},
   "outputs": [
    {
     "data": {
      "text/plain": [
       "\"You say goodbye and I say hello.\""
      ]
     },
     "execution_count": 1,
     "metadata": {},
     "output_type": "execute_result"
    }
   ],
   "source": [
    "text = \"You say goodbye and I say hello.\""
   ]
  },
  {
   "cell_type": "code",
   "execution_count": 4,
   "metadata": {},
   "outputs": [
    {
     "data": {
      "text/plain": [
       "\"you say goodbye and i say hello.\""
      ]
     },
     "execution_count": 4,
     "metadata": {},
     "output_type": "execute_result"
    }
   ],
   "source": [
    "text = lowercase(text)"
   ]
  },
  {
   "cell_type": "code",
   "execution_count": 8,
   "metadata": {},
   "outputs": [
    {
     "data": {
      "text/plain": [
       "\"you say goodbye and i say hello .\""
      ]
     },
     "execution_count": 8,
     "metadata": {},
     "output_type": "execute_result"
    }
   ],
   "source": [
    "text = replace(text, \".\" => \" .\")"
   ]
  },
  {
   "cell_type": "code",
   "execution_count": 9,
   "metadata": {},
   "outputs": [
    {
     "data": {
      "text/plain": [
       "8-element Array{SubString{String},1}:\n",
       " \"you\"    \n",
       " \"say\"    \n",
       " \"goodbye\"\n",
       " \"and\"    \n",
       " \"i\"      \n",
       " \"say\"    \n",
       " \"hello\"  \n",
       " \".\"      "
      ]
     },
     "execution_count": 9,
     "metadata": {},
     "output_type": "execute_result"
    }
   ],
   "source": [
    "words = split(text, \" \")"
   ]
  },
  {
   "cell_type": "code",
   "execution_count": 21,
   "metadata": {},
   "outputs": [
    {
     "name": "stdout",
     "output_type": "stream",
     "text": [
      "word_to_id = Dict(\"say\"=>1,\"goodbye\"=>2,\"you\"=>0,\"hello\"=>5,\".\"=>6,\"and\"=>3,\"i\"=>4)\n",
      "id_to_word = Dict(0=>\"you\",4=>\"i\",2=>\"goodbye\",3=>\"and\",5=>\"hello\",6=>\".\",1=>\"say\")\n"
     ]
    }
   ],
   "source": [
    "word_to_id = Dict{String, Int}()\n",
    "id_to_word = Dict{Int, String}()\n",
    "for word in words\n",
    "    word = String(word)\n",
    "    if !haskey(word_to_id, word)\n",
    "        new_id = length(word_to_id)\n",
    "        word_to_id[word] = new_id\n",
    "        id_to_word[new_id] = word\n",
    "    end\n",
    "end\n",
    "@show word_to_id;\n",
    "@show id_to_word;"
   ]
  },
  {
   "cell_type": "code",
   "execution_count": 22,
   "metadata": {},
   "outputs": [
    {
     "data": {
      "text/plain": [
       "\"say\""
      ]
     },
     "execution_count": 22,
     "metadata": {},
     "output_type": "execute_result"
    }
   ],
   "source": [
    "id_to_word[1]"
   ]
  },
  {
   "cell_type": "code",
   "execution_count": 23,
   "metadata": {},
   "outputs": [
    {
     "data": {
      "text/plain": [
       "5"
      ]
     },
     "execution_count": 23,
     "metadata": {},
     "output_type": "execute_result"
    }
   ],
   "source": [
    "word_to_id[\"hello\"]"
   ]
  },
  {
   "cell_type": "code",
   "execution_count": 24,
   "metadata": {},
   "outputs": [
    {
     "data": {
      "text/plain": [
       "8-element Array{Int64,1}:\n",
       " 0\n",
       " 1\n",
       " 2\n",
       " 3\n",
       " 4\n",
       " 1\n",
       " 5\n",
       " 6"
      ]
     },
     "execution_count": 24,
     "metadata": {},
     "output_type": "execute_result"
    }
   ],
   "source": [
    "corpus = [word_to_id[String(w)] for w in words]"
   ]
  },
  {
   "cell_type": "code",
   "execution_count": 34,
   "metadata": {},
   "outputs": [
    {
     "data": {
      "text/plain": [
       "preprocess (generic function with 1 method)"
      ]
     },
     "execution_count": 34,
     "metadata": {},
     "output_type": "execute_result"
    }
   ],
   "source": [
    "function preprocess(text)\n",
    "    text = lowercase(text)\n",
    "    text = replace(text, \".\" => \" .\")\n",
    "    words = split(text, \" \")\n",
    "    word_to_id = Dict{String, Int}()\n",
    "    id_to_word = Dict{Int, String}()\n",
    "    for word in words\n",
    "        word = String(word)\n",
    "        if !haskey(word_to_id, word)\n",
    "            new_id = length(word_to_id) + 1\n",
    "            word_to_id[word] = new_id\n",
    "            id_to_word[new_id] = word\n",
    "        end\n",
    "    end\n",
    "    corpus = [word_to_id[String(w)] for w in words]\n",
    "    return corpus, word_to_id, id_to_word\n",
    "end"
   ]
  },
  {
   "cell_type": "code",
   "execution_count": 35,
   "metadata": {},
   "outputs": [
    {
     "data": {
      "text/plain": [
       "([1, 2, 3, 4, 5, 2, 6, 7], Dict(\"say\"=>2,\"goodbye\"=>3,\"you\"=>1,\"hello\"=>6,\".\"=>7,\"and\"=>4,\"i\"=>5), Dict(7=>\".\",4=>\"and\",2=>\"say\",3=>\"goodbye\",5=>\"i\",6=>\"hello\",1=>\"you\"))"
      ]
     },
     "execution_count": 35,
     "metadata": {},
     "output_type": "execute_result"
    }
   ],
   "source": [
    "text = \"You say goodbye and I say hello.\"\n",
    "corpus, word_to_id, id_to_word = preprocess(text)"
   ]
  },
  {
   "cell_type": "code",
   "execution_count": 38,
   "metadata": {},
   "outputs": [
    {
     "data": {
      "text/plain": [
       "create_co_matrix (generic function with 1 method)"
      ]
     },
     "execution_count": 38,
     "metadata": {},
     "output_type": "execute_result"
    }
   ],
   "source": [
    "function create_co_matrix(corpus, vocab_size; window_size=1)\n",
    "    corpus_size = length(corpus)\n",
    "    co_matrix = zeros(Int64, vocab_size, vocab_size)\n",
    "    \n",
    "    for (idx, word_id) in enumerate(corpus)\n",
    "        for i in 1:window_size\n",
    "            left_idx = idx - i\n",
    "            right_idx = idx + i\n",
    "            \n",
    "            if left_idx >= 1\n",
    "                left_word_id = corpus[left_idx]\n",
    "                co_matrix[word_id, left_word_id] += 1\n",
    "            end\n",
    "                \n",
    "            if right_idx <= corpus_size\n",
    "                right_word_id = corpus[right_idx]\n",
    "                co_matrix[word_id, right_word_id] += 1\n",
    "            end\n",
    "        end\n",
    "    end\n",
    "    \n",
    "    return co_matrix\n",
    "end"
   ]
  },
  {
   "cell_type": "code",
   "execution_count": 42,
   "metadata": {},
   "outputs": [
    {
     "data": {
      "text/plain": [
       "7×7 Array{Int64,2}:\n",
       " 0  1  0  0  0  0  0\n",
       " 1  0  1  0  1  1  0\n",
       " 0  1  0  1  0  0  0\n",
       " 0  0  1  0  1  0  0\n",
       " 0  1  0  1  0  0  0\n",
       " 0  1  0  0  0  0  1\n",
       " 0  0  0  0  0  1  0"
      ]
     },
     "execution_count": 42,
     "metadata": {},
     "output_type": "execute_result"
    }
   ],
   "source": [
    "C = create_co_matrix(corpus, 7)"
   ]
  },
  {
   "cell_type": "code",
   "execution_count": 40,
   "metadata": {},
   "outputs": [
    {
     "data": {
      "text/plain": [
       "cos_similarity (generic function with 1 method)"
      ]
     },
     "execution_count": 40,
     "metadata": {},
     "output_type": "execute_result"
    }
   ],
   "source": [
    "function cos_similarity(x, y; ϵ=1e-8)\n",
    "    nx = x ./ sqrt(sum(x .^ 2) + ϵ)\n",
    "    ny = y ./ sqrt(sum(y .^ 2) + ϵ)\n",
    "    return dot(nx, ny)\n",
    "end"
   ]
  },
  {
   "cell_type": "code",
   "execution_count": 49,
   "metadata": {},
   "outputs": [
    {
     "name": "stdout",
     "output_type": "stream",
     "text": [
      "0.7071067758832467\n"
     ]
    }
   ],
   "source": [
    "c0 = C[word_to_id[\"you\"], :];\n",
    "c1 = C[word_to_id[\"i\"], :];\n",
    "println(cos_similarity(c0, c1))"
   ]
  },
  {
   "cell_type": "code",
   "execution_count": 56,
   "metadata": {},
   "outputs": [
    {
     "data": {
      "text/plain": [
       "most_similiar (generic function with 1 method)"
      ]
     },
     "execution_count": 56,
     "metadata": {},
     "output_type": "execute_result"
    }
   ],
   "source": [
    "function most_similiar(query, word_to_id, id_to_word, word_matrix; top=5)\n",
    "    if !haskey(word_to_id, query)\n",
    "        println(\"$query is not found\")\n",
    "        return\n",
    "    end\n",
    "    \n",
    "    # 1. get query info\n",
    "    println(\"\\n[$query]\")\n",
    "    qid = word_to_id[query]\n",
    "    qvec = word_matrix[qid, :]\n",
    "    \n",
    "    # 2. compute cosine similarity\n",
    "    vocab_size = length(id_to_word)\n",
    "    similarity = zeros(vocab_size)\n",
    "    for i in 1:vocab_size\n",
    "        similarity[i] = cos_similarity(word_matrix[i, :], qvec)\n",
    "    end\n",
    "    \n",
    "    # 3. print up to 'top' words\n",
    "    count = 0\n",
    "    for i in sortperm(-1 .* similarity)\n",
    "        if id_to_word[i] == query\n",
    "            continue\n",
    "        end\n",
    "        println(\"  $(id_to_word[i]): $(similarity[i])\")\n",
    "        count += 1\n",
    "        if count >= top\n",
    "            return\n",
    "        end\n",
    "    end\n",
    "end"
   ]
  },
  {
   "cell_type": "code",
   "execution_count": 58,
   "metadata": {},
   "outputs": [
    {
     "name": "stdout",
     "output_type": "stream",
     "text": [
      "\n",
      "[you]\n",
      "  goodbye: 0.7071067758832467\n",
      "  i: 0.7071067758832467\n",
      "  hello: 0.7071067758832467\n",
      "  say: 0.0\n",
      "  and: 0.0\n"
     ]
    }
   ],
   "source": [
    "most_similiar(\"you\", word_to_id, id_to_word, C, top=5)"
   ]
  },
  {
   "cell_type": "code",
   "execution_count": 59,
   "metadata": {},
   "outputs": [
    {
     "data": {
      "text/plain": [
       "PPMI (generic function with 1 method)"
      ]
     },
     "execution_count": 59,
     "metadata": {},
     "output_type": "execute_result"
    }
   ],
   "source": [
    "function PPMI(C; verbose=false, ϵ=1e-8)\n",
    "    M = zeros(Float64, size(C))\n",
    "    N = sum(C)\n",
    "    S = sum(C, dims=1)\n",
    "    total = size(C)[1] * size(C)[2]\n",
    "    count = 0\n",
    "    \n",
    "    for i in 1:size(C)[1]\n",
    "        for j in 1:size(C)[2]\n",
    "            pmi = log2(C[i, j] * N / (S[j] * S[i]) + ϵ)\n",
    "            M[i, j] = max(0, pmi)\n",
    "            \n",
    "            if verbose\n",
    "                count += 1\n",
    "                if count % (total // 100) == 0\n",
    "                    println(\"$(100 * cnt / total) done\")\n",
    "                end\n",
    "            end\n",
    "        end\n",
    "    end\n",
    "    \n",
    "    return M\n",
    "end"
   ]
  },
  {
   "cell_type": "code",
   "execution_count": 61,
   "metadata": {},
   "outputs": [
    {
     "data": {
      "text/plain": [
       "7×7 Array{Float64,2}:\n",
       " 0.0      1.80735   0.0       0.0      0.0       0.0       0.0    \n",
       " 1.80735  0.0       0.807355  0.0      0.807355  0.807355  0.0    \n",
       " 0.0      0.807355  0.0       1.80735  0.0       0.0       0.0    \n",
       " 0.0      0.0       1.80735   0.0      1.80735   0.0       0.0    \n",
       " 0.0      0.807355  0.0       1.80735  0.0       0.0       0.0    \n",
       " 0.0      0.807355  0.0       0.0      0.0       0.0       2.80735\n",
       " 0.0      0.0       0.0       0.0      0.0       2.80735   0.0    "
      ]
     },
     "execution_count": 61,
     "metadata": {},
     "output_type": "execute_result"
    }
   ],
   "source": [
    "W = PPMI(C)"
   ]
  },
  {
   "cell_type": "code",
   "execution_count": 62,
   "metadata": {},
   "outputs": [
    {
     "data": {
      "text/plain": [
       "SVD{Float64,Float64,Array{Float64,2}}([0.340949 2.22045e-16 … -0.932325 -4.38419e-17; -1.11022e-16 -0.597636 … 2.22045e-16 1.2326e-32; … ; 0.709237 2.34281e-17 … 0.170959 -5.20488e-17; 3.33067e-16 -0.628489 … -3.33067e-16 2.68919e-17], [3.16805, 3.16805, 2.70299, 2.70299, 1.51448, 1.51448, 1.49e-16], [-0.0 0.597636 … 3.33067e-16 0.628489; -0.340949 0.0 … -0.709237 0.0; … ; -0.0 -0.781246 … -3.88578e-16 0.316902; 0.0 0.0 … 0.0 1.56125e-17])"
      ]
     },
     "execution_count": 62,
     "metadata": {},
     "output_type": "execute_result"
    }
   ],
   "source": [
    "U, S, V = svd(W)"
   ]
  },
  {
   "cell_type": "code",
   "execution_count": 64,
   "metadata": {},
   "outputs": [
    {
     "name": "stdout",
     "output_type": "stream",
     "text": [
      "[0, 1, 0, 0, 0, 0, 0]\n"
     ]
    }
   ],
   "source": [
    "println(C[1, :])"
   ]
  },
  {
   "cell_type": "code",
   "execution_count": 65,
   "metadata": {},
   "outputs": [
    {
     "name": "stdout",
     "output_type": "stream",
     "text": [
      "[0.0, 1.80735, 0.0, 0.0, 0.0, 0.0, 0.0]\n"
     ]
    }
   ],
   "source": [
    "println(W[1, :])"
   ]
  },
  {
   "cell_type": "code",
   "execution_count": 66,
   "metadata": {},
   "outputs": [
    {
     "name": "stdout",
     "output_type": "stream",
     "text": [
      "[0.340949, 2.22045e-16, -3.05311e-16, -0.120516, -1.11022e-16, -0.932325, -4.38419e-17]\n"
     ]
    }
   ],
   "source": [
    "println(U[1, :])"
   ]
  },
  {
   "cell_type": "code",
   "execution_count": 73,
   "metadata": {},
   "outputs": [
    {
     "name": "stdout",
     "output_type": "stream",
     "text": [
      "[0.340949, 2.22045e-16]\n"
     ]
    }
   ],
   "source": [
    "println(U[1, 1:2])"
   ]
  },
  {
   "cell_type": "code",
   "execution_count": 74,
   "metadata": {},
   "outputs": [
    {
     "name": "stderr",
     "output_type": "stream",
     "text": [
      "WARNING: using PyPlot.axes in module Main conflicts with an existing identifier.\n",
      "WARNING: using PyPlot.text in module Main conflicts with an existing identifier.\n"
     ]
    }
   ],
   "source": [
    "using PyPlot"
   ]
  },
  {
   "cell_type": "code",
   "execution_count": 80,
   "metadata": {},
   "outputs": [
    {
     "data": {
      "image/png": "[encoded data removed]",
      "text/plain": [
       "Figure(PyObject <Figure size 640x480 with 1 Axes>)"
      ]
     },
     "metadata": {},
     "output_type": "display_data"
    },
    {
     "data": {
      "text/plain": [
       "PyObject <matplotlib.collections.PathCollection object at 0x0000000035055278>"
      ]
     },
     "execution_count": 80,
     "metadata": {},
     "output_type": "execute_result"
    }
   ],
   "source": [
    "figure()\n",
    "for (word, wid) in word_to_id\n",
    "    annotate(word, (U[wid, 1], U[wid, 2]))\n",
    "end\n",
    "scatter(U[:, 1], U[:, 2], alpha=0.5)"
   ]
  },
  {
   "cell_type": "code",
   "execution_count": null,
   "metadata": {},
   "outputs": [],
   "source": []
  }
 ],
 "metadata": {
  "kernelspec": {
   "display_name": "Julia 1.0.2",
   "language": "julia",
   "name": "julia-1.0"
  },
  "language_info": {
   "file_extension": ".jl",
   "mimetype": "application/julia",
   "name": "julia",
   "version": "1.0.2"
  }
 },
 "nbformat": 4,
 "nbformat_minor": 2
}
