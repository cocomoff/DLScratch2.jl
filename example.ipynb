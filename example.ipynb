{
 "cells": [
  {
   "cell_type": "code",
   "execution_count": 1,
   "metadata": {},
   "outputs": [],
   "source": [
    "include(\".\\\\common\\\\layers.jl\")\n",
    "using Main.JLlayers"
   ]
  },
  {
   "cell_type": "code",
   "execution_count": 2,
   "metadata": {},
   "outputs": [
    {
     "data": {
      "text/plain": [
       "1×4 Array{Float64,2}:\n",
       " 1.36788  3.71828  1.60653  2.64872"
      ]
     },
     "execution_count": 2,
     "metadata": {},
     "output_type": "execute_result"
    }
   ],
   "source": [
    "layer = SigmoidLayer{Float64}()\n",
    "x = [1. -1. 0.5 -0.5];\n",
    "forward(layer, x);\n",
    "layer.out"
   ]
  },
  {
   "cell_type": "code",
   "execution_count": 3,
   "metadata": {},
   "outputs": [
    {
     "data": {
      "text/plain": [
       "1×4 Array{Float64,2}:\n",
       " -0.503215  -10.1073  -0.97441  -4.367"
      ]
     },
     "execution_count": 3,
     "metadata": {},
     "output_type": "execute_result"
    }
   ],
   "source": [
    "backward(layer, [1. 1. 1. 1.])"
   ]
  },
  {
   "cell_type": "markdown",
   "metadata": {},
   "source": [
    "### Affine Matrix"
   ]
  },
  {
   "cell_type": "code",
   "execution_count": 4,
   "metadata": {},
   "outputs": [],
   "source": [
    "x = randn(10, 2);\n",
    "W1 = randn(2, 4);\n",
    "b1 = randn(4);"
   ]
  },
  {
   "cell_type": "code",
   "execution_count": 5,
   "metadata": {},
   "outputs": [
    {
     "data": {
      "text/plain": [
       "10×4 Array{Float64,2}:\n",
       " -2.10883   -0.828754   4.06836   -0.509629 \n",
       "  0.892865   0.555126   1.09606   -0.499831 \n",
       "  1.28848    1.92878    0.811116  -0.66874  \n",
       "  0.410137  -2.43728    1.32573   -0.105668 \n",
       " -2.20036   -3.2071     3.94955   -0.176153 \n",
       "  1.56013    1.80048    0.519391  -0.631628 \n",
       "  3.61173   -0.629342  -1.81476   -0.142637 \n",
       "  0.1355     1.82129    1.99083   -0.733091 \n",
       "  1.18214   -0.377382   0.714051  -0.346601 \n",
       " -1.43213   -3.4211     3.1379    -0.0924681"
      ]
     },
     "execution_count": 5,
     "metadata": {},
     "output_type": "execute_result"
    }
   ],
   "source": [
    "h = x * W1 .+ b1'"
   ]
  },
  {
   "cell_type": "code",
   "execution_count": 6,
   "metadata": {},
   "outputs": [
    {
     "data": {
      "text/plain": [
       "1×4 Array{Float64,2}:\n",
       " -2.10883  -0.828754  4.06836  -0.509629"
      ]
     },
     "execution_count": 6,
     "metadata": {},
     "output_type": "execute_result"
    }
   ],
   "source": [
    "alayer = AffineLayer(W1, b1)\n",
    "forward(alayer, x[1, :]')"
   ]
  },
  {
   "cell_type": "markdown",
   "metadata": {},
   "source": [
    "### Naive Layers"
   ]
  },
  {
   "cell_type": "code",
   "execution_count": 7,
   "metadata": {},
   "outputs": [
    {
     "data": {
      "text/plain": [
       "10×3 Array{Float64,2}:\n",
       " -0.209689   -0.341177   0.493543\n",
       " -0.2207     -0.38036    0.433463\n",
       "  0.0278047  -0.0157269  0.284409\n",
       " -0.291909   -0.539291   0.337841\n",
       " -0.23789    -0.42337    0.40293 \n",
       " -0.161731   -0.341249   0.315243\n",
       " -0.129885   -0.248822   0.365504\n",
       " -0.330479   -0.583572   0.530532\n",
       " -0.158804   -0.258947   0.437052\n",
       " -0.139195   -0.366626   0.23255 "
      ]
     },
     "execution_count": 7,
     "metadata": {},
     "output_type": "execute_result"
    }
   ],
   "source": [
    "sigmoid(x) = 1 ./ (1 .+ exp.(x))\n",
    "\n",
    "x = randn(10, 2)\n",
    "W1 = randn(2, 4)\n",
    "b1 = randn(4)\n",
    "W2 = randn(4, 3)\n",
    "b2 = randn(3)\n",
    "h = x * W1 .+ b1';\n",
    "a = sigmoid(h)\n",
    "s = a * W2 .+ b2'"
   ]
  },
  {
   "cell_type": "markdown",
   "metadata": {},
   "source": [
    "### Two Layer Net"
   ]
  },
  {
   "cell_type": "code",
   "execution_count": 8,
   "metadata": {},
   "outputs": [
    {
     "data": {
      "text/plain": [
       "10×3 Array{Float64,2}:\n",
       "  -2.82016    -5.34      7.10263\n",
       "  -4.64145    -8.56812   9.15519\n",
       "  -0.787202   -1.16781   4.09846\n",
       " -18.0918    -32.7466   27.245  \n",
       "  -6.76192   -12.3734   11.8765 \n",
       "  -6.20206   -11.1787   10.9426 \n",
       "  -2.91782    -5.29305   6.76724\n",
       "  -9.71645   -17.8609   16.1946 \n",
       "  -2.24836    -4.21472   6.22066\n",
       " -10.5701    -18.9087   16.7745 "
      ]
     },
     "execution_count": 8,
     "metadata": {},
     "output_type": "execute_result"
    }
   ],
   "source": [
    "tl = TwoLayerNet{Float64}(2, 4, 3);\n",
    "al1 = AffineLayer(W1, b1);\n",
    "al2 = AffineLayer(W2, b2);\n",
    "tl.a1l = al1;\n",
    "tl.a2l = al2;\n",
    "predict(tl, x)"
   ]
  },
  {
   "cell_type": "markdown",
   "metadata": {},
   "source": [
    "# MatMul Layer"
   ]
  },
  {
   "cell_type": "code",
   "execution_count": 11,
   "metadata": {},
   "outputs": [
    {
     "data": {
      "text/plain": [
       "2×2 Array{Float64,2}:\n",
       " 1.0  2.0\n",
       " 3.0  4.0"
      ]
     },
     "execution_count": 11,
     "metadata": {},
     "output_type": "execute_result"
    }
   ],
   "source": [
    "W = [1. 2.; 3. 4.]"
   ]
  },
  {
   "cell_type": "code",
   "execution_count": 12,
   "metadata": {},
   "outputs": [
    {
     "ename": "MethodError",
     "evalue": "MethodError: no method matching MatMulLayer(::Array{Float64,2})",
     "output_type": "error",
     "traceback": [
      "MethodError: no method matching MatMulLayer(::Array{Float64,2})",
      "",
      "Stacktrace:",
      " [1] top-level scope at In[12]:1"
     ]
    }
   ],
   "source": [
    "ml = MatMulLayer(W)"
   ]
  },
  {
   "cell_type": "code",
   "execution_count": null,
   "metadata": {},
   "outputs": [],
   "source": []
  }
 ],
 "metadata": {
  "kernelspec": {
   "display_name": "Julia 1.0.2",
   "language": "julia",
   "name": "julia-1.0"
  },
  "language_info": {
   "file_extension": ".jl",
   "mimetype": "application/julia",
   "name": "julia",
   "version": "1.0.2"
  }
 },
 "nbformat": 4,
 "nbformat_minor": 2
}
