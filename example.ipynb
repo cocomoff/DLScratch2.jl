{
 "cells": [
  {
   "cell_type": "code",
   "execution_count": 1,
   "metadata": {},
   "outputs": [],
   "source": [
    "include(\".\\\\common\\\\layers.jl\")\n",
    "using Main.JLlayers"
   ]
  },
  {
   "cell_type": "code",
   "execution_count": null,
   "metadata": {},
   "outputs": [],
   "source": [
    "layer = SigmoidLayer{Float64}()\n",
    "x = [1. -1. 0.5 -0.5];\n",
    "forward(layer, x);\n",
    "layer.out"
   ]
  },
  {
   "cell_type": "code",
   "execution_count": null,
   "metadata": {},
   "outputs": [],
   "source": [
    "backward(layer, [1. 1. 1. 1.])"
   ]
  },
  {
   "cell_type": "markdown",
   "metadata": {},
   "source": [
    "### Affine Matrix"
   ]
  },
  {
   "cell_type": "code",
   "execution_count": null,
   "metadata": {},
   "outputs": [],
   "source": [
    "x = randn(10, 2);\n",
    "W1 = randn(2, 4);\n",
    "b1 = randn(4);"
   ]
  },
  {
   "cell_type": "code",
   "execution_count": null,
   "metadata": {},
   "outputs": [],
   "source": [
    "h = x * W1 .+ b1'"
   ]
  },
  {
   "cell_type": "code",
   "execution_count": null,
   "metadata": {},
   "outputs": [],
   "source": [
    "alayer = AffineLayer(W1, b1)\n",
    "forward(alayer, x[1, :]')"
   ]
  },
  {
   "cell_type": "markdown",
   "metadata": {},
   "source": [
    "### Naive Layers"
   ]
  },
  {
   "cell_type": "code",
   "execution_count": null,
   "metadata": {},
   "outputs": [],
   "source": [
    "sigmoid(x) = 1 ./ (1 .+ exp.(x))\n",
    "\n",
    "x = randn(10, 2)\n",
    "W1 = randn(2, 4)\n",
    "b1 = randn(4)\n",
    "W2 = randn(4, 3)\n",
    "b2 = randn(3)\n",
    "h = x * W1 .+ b1';\n",
    "a = sigmoid(h)\n",
    "s = a * W2 .+ b2'"
   ]
  },
  {
   "cell_type": "markdown",
   "metadata": {},
   "source": [
    "### Two Layer Net"
   ]
  },
  {
   "cell_type": "code",
   "execution_count": null,
   "metadata": {},
   "outputs": [],
   "source": [
    "tl = TwoLayerNet{Float64}(2, 4, 3);\n",
    "al1 = AffineLayer(W1, b1);\n",
    "al2 = AffineLayer(W2, b2);\n",
    "tl.a1l = al1;\n",
    "tl.a2l = al2;\n",
    "predict(tl, x)"
   ]
  },
  {
   "cell_type": "markdown",
   "metadata": {},
   "source": [
    "# MatMul Layer"
   ]
  },
  {
   "cell_type": "code",
   "execution_count": null,
   "metadata": {},
   "outputs": [],
   "source": [
    "W = [1. 2.; 3. 4.]"
   ]
  },
  {
   "cell_type": "code",
   "execution_count": null,
   "metadata": {},
   "outputs": [],
   "source": [
    "ml = MatMulLayer(W)"
   ]
  },
  {
   "cell_type": "code",
   "execution_count": null,
   "metadata": {},
   "outputs": [],
   "source": []
  }
 ],
 "metadata": {
  "kernelspec": {
   "display_name": "Julia 1.0.2",
   "language": "julia",
   "name": "julia-1.0"
  },
  "language_info": {
   "file_extension": ".jl",
   "mimetype": "application/julia",
   "name": "julia",
   "version": "1.0.2"
  }
 },
 "nbformat": 4,
 "nbformat_minor": 2
}
