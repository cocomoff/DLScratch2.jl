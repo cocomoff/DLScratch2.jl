{
 "cells": [
  {
   "cell_type": "code",
   "execution_count": 1,
   "metadata": {},
   "outputs": [
    {
     "data": {
      "text/plain": [
       "backward (generic function with 1 method)"
      ]
     },
     "execution_count": 1,
     "metadata": {},
     "output_type": "execute_result"
    }
   ],
   "source": [
    "mutable struct RNN{T}\n",
    "    Wx::AbstractMatrix{T}\n",
    "    Wh::AbstractMatrix{T}\n",
    "    b::AbstractMatrix{T}\n",
    "    dWx::AbstractMatrix{T}\n",
    "    dWh::AbstractMatrix{T}\n",
    "    db::AbstractMatrix{T}\n",
    "    \n",
    "    # self.cache @ python\n",
    "    x::AbstractMatrix{T}\n",
    "    hp::AbstractMatrix{T}\n",
    "    hn::AbstractMatrix{T}\n",
    "\n",
    "    function (::Type{RNN})(Wx::AbstractMatrix{T}, Wh::AbstractMatrix{T}, b::AbstractMatrix{T}) where {T}\n",
    "        layer = new{T}()\n",
    "        layer.Wx = Wx\n",
    "        layer.Wh = Wh\n",
    "        layer.b = b\n",
    "        layer.dWx = zeros(size(Wx))\n",
    "        layer.dWh = zeros(size(Wh))\n",
    "        layer.db = zeros(size(b))\n",
    "        layer\n",
    "    end\n",
    "end\n",
    "\n",
    "function forward(rnn::RNN{T}, x::AbstractMatrix{T}, h_prev::AbstractMatrix{T}) where {T}\n",
    "    # Eq.(5.9)\n",
    "    t = h_prev * rnn.Wh + x * rnn.Wx .+ b  \n",
    "    h_next = tanh.(t)\n",
    "    \n",
    "    rnn.x = x\n",
    "    rnn.hn = h_next\n",
    "    rnn.hp = h_prev\n",
    "    return h_next\n",
    "end\n",
    "\n",
    "function backward(rnn::RNN{T}, dh_next::AbstractMatrix{T}) where{T}\n",
    "    x, h_prev, h_next = rnn.x, rnn.hp, rnn.hn\n",
    "    dt = dh_next .* (1 .- h_next .^ 2)\n",
    "    dh_prev = dt * Wh'\n",
    "    rnn.dWh = h_prev' * dt\n",
    "    rnn.dWx = x' * dt\n",
    "    rnn.db .= sum(dt, dims=1)\n",
    "    dx = dt * Wx'\n",
    "    return dx, dh_prev\n",
    "end"
   ]
  },
  {
   "cell_type": "markdown",
   "metadata": {},
   "source": [
    "### Example"
   ]
  },
  {
   "cell_type": "code",
   "execution_count": 2,
   "metadata": {},
   "outputs": [
    {
     "data": {
      "text/plain": [
       "5×2 Array{Float64,2}:\n",
       " 0.0  1.0\n",
       " 2.0  3.0\n",
       " 4.0  5.0\n",
       " 6.0  7.0\n",
       " 8.0  9.0"
      ]
     },
     "metadata": {},
     "output_type": "display_data"
    }
   ],
   "source": [
    "# N: バッチサイズ\n",
    "# H: 隠れ層次元\n",
    "# D: データ次元\n",
    "N, H, D = 5, 3, 2\n",
    "Wh = ones(H, H);\n",
    "Wx = ones(D, H);\n",
    "b = ones(N, H);\n",
    "hp = zeros(N, H);\n",
    "x = Float64[0 1; 2 3; 4 5; 6 7; 8 9];\n",
    "display(x)"
   ]
  },
  {
   "cell_type": "code",
   "execution_count": 3,
   "metadata": {},
   "outputs": [
    {
     "data": {
      "text/plain": [
       "5×3 Array{Float64,2}:\n",
       " 0.964028  0.964028  0.964028\n",
       " 0.999988  0.999988  0.999988\n",
       " 1.0       1.0       1.0     \n",
       " 1.0       1.0       1.0     \n",
       " 1.0       1.0       1.0     "
      ]
     },
     "metadata": {},
     "output_type": "display_data"
    }
   ],
   "source": [
    "rnn = RNN(Wx, Wh, b)\n",
    "h_next = forward(rnn, x, hp)\n",
    "display(h_next)"
   ]
  },
  {
   "cell_type": "code",
   "execution_count": 4,
   "metadata": {},
   "outputs": [
    {
     "data": {
      "text/plain": [
       "5×2 Array{Float64,2}:\n",
       " 0.204328     0.204328   \n",
       " 7.37287e-5   7.37287e-5 \n",
       " 2.47338e-8   2.47338e-8 \n",
       " 8.29736e-12  8.29736e-12\n",
       " 2.66454e-15  2.66454e-15"
      ]
     },
     "metadata": {},
     "output_type": "display_data"
    },
    {
     "data": {
      "text/plain": [
       "5×3 Array{Float64,2}:\n",
       " 0.204328     0.204328     0.204328   \n",
       " 7.37287e-5   7.37287e-5   7.37287e-5 \n",
       " 2.47338e-8   2.47338e-8   2.47338e-8 \n",
       " 8.29736e-12  8.29736e-12  8.29736e-12\n",
       " 2.66454e-15  2.66454e-15  2.66454e-15"
      ]
     },
     "metadata": {},
     "output_type": "display_data"
    },
    {
     "data": {
      "text/plain": [
       "2×3 Array{Float64,2}:\n",
       " 4.91855e-5  4.91855e-5  4.91855e-5\n",
       " 0.0681831   0.0681831   0.0681831 "
      ]
     },
     "metadata": {},
     "output_type": "display_data"
    },
    {
     "data": {
      "text/plain": [
       "3×3 Array{Float64,2}:\n",
       " 0.0  0.0  0.0\n",
       " 0.0  0.0  0.0\n",
       " 0.0  0.0  0.0"
      ]
     },
     "metadata": {},
     "output_type": "display_data"
    },
    {
     "data": {
      "text/plain": [
       "5×3 Array{Float64,2}:\n",
       " 0.0681339  0.0681339  0.0681339\n",
       " 0.0681339  0.0681339  0.0681339\n",
       " 0.0681339  0.0681339  0.0681339\n",
       " 0.0681339  0.0681339  0.0681339\n",
       " 0.0681339  0.0681339  0.0681339"
      ]
     },
     "metadata": {},
     "output_type": "display_data"
    }
   ],
   "source": [
    "dx, dh_prev = backward(rnn, h_next);\n",
    "display(dx)\n",
    "display(dh_prev)\n",
    "display(rnn.dWx)\n",
    "display(rnn.dWh)\n",
    "display(rnn.db)"
   ]
  },
  {
   "cell_type": "code",
   "execution_count": null,
   "metadata": {},
   "outputs": [],
   "source": []
  },
  {
   "cell_type": "code",
   "execution_count": null,
   "metadata": {},
   "outputs": [],
   "source": []
  }
 ],
 "metadata": {
  "kernelspec": {
   "display_name": "Julia 1.0.2",
   "language": "julia",
   "name": "julia-1.0"
  },
  "language_info": {
   "file_extension": ".jl",
   "mimetype": "application/julia",
   "name": "julia",
   "version": "1.0.2"
  }
 },
 "nbformat": 4,
 "nbformat_minor": 2
}
