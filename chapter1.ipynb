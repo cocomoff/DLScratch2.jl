{
 "cells": [
  {
   "cell_type": "code",
   "execution_count": 1,
   "metadata": {},
   "outputs": [],
   "source": [
    "W1 = randn(2, 4);\n",
    "b1 = randn(1, 4);\n",
    "x = randn(10, 2);"
   ]
  },
  {
   "cell_type": "code",
   "execution_count": 2,
   "metadata": {},
   "outputs": [
    {
     "data": {
      "text/plain": [
       "2×4 Array{Float64,2}:\n",
       "  0.467891  0.0418946   2.3809      0.180189\n",
       " -2.23774   0.693749   -0.0218883  -0.441875"
      ]
     },
     "execution_count": 2,
     "metadata": {},
     "output_type": "execute_result"
    }
   ],
   "source": [
    "W1"
   ]
  },
  {
   "cell_type": "code",
   "execution_count": 3,
   "metadata": {},
   "outputs": [
    {
     "data": {
      "text/plain": [
       "1×4 Array{Float64,2}:\n",
       " 1.16429  -1.2956  1.57839  1.10975"
      ]
     },
     "execution_count": 3,
     "metadata": {},
     "output_type": "execute_result"
    }
   ],
   "source": [
    "b1"
   ]
  },
  {
   "cell_type": "code",
   "execution_count": 4,
   "metadata": {},
   "outputs": [
    {
     "data": {
      "text/plain": [
       "10×2 Array{Float64,2}:\n",
       " -1.00146     1.35737  \n",
       "  1.01296     2.03249  \n",
       " -1.95786     1.5105   \n",
       "  1.74386     0.0978341\n",
       " -1.2145      1.4834   \n",
       " -0.401592   -0.446122 \n",
       "  0.530894    2.86397  \n",
       "  2.41006    -0.255267 \n",
       " -0.0285246   0.0530289\n",
       "  1.19851    -0.68147  "
      ]
     },
     "execution_count": 4,
     "metadata": {},
     "output_type": "execute_result"
    }
   ],
   "source": [
    "x"
   ]
  },
  {
   "cell_type": "code",
   "execution_count": 5,
   "metadata": {},
   "outputs": [
    {
     "data": {
      "text/plain": [
       "10×4 Array{Float64,2}:\n",
       " -2.34173  -0.395876  -0.835697   0.329505 \n",
       " -2.90993   0.156878   3.94567    0.394166 \n",
       " -3.13189  -0.329711  -3.11615    0.0895077\n",
       "  1.7613   -1.15467    5.7282     1.38074  \n",
       " -2.72343  -0.317368  -1.34567    0.235429 \n",
       "  1.97469  -1.62192    0.632008   1.23451  \n",
       " -4.99613   0.713524   2.77971   -0.0601111\n",
       "  2.86315  -1.37172    7.3221     1.65681  \n",
       "  1.03228  -1.26       1.50932    1.08117  \n",
       "  3.25001  -1.71816    4.44683    1.62683  "
      ]
     },
     "execution_count": 5,
     "metadata": {},
     "output_type": "execute_result"
    }
   ],
   "source": [
    "h = x * W1 .+ b1"
   ]
  },
  {
   "cell_type": "code",
   "execution_count": 6,
   "metadata": {},
   "outputs": [],
   "source": [
    "using PyPlot"
   ]
  },
  {
   "cell_type": "code",
   "execution_count": 7,
   "metadata": {},
   "outputs": [
    {
     "data": {
      "text/plain": [
       "sigmoid (generic function with 1 method)"
      ]
     },
     "execution_count": 7,
     "metadata": {},
     "output_type": "execute_result"
    }
   ],
   "source": [
    "sigmoid(x) = 1 ./ (1 .+ exp.(-x))"
   ]
  },
  {
   "cell_type": "code",
   "execution_count": 8,
   "metadata": {},
   "outputs": [],
   "source": [
    "x = -5:0.1:5;\n",
    "y = sigmoid(x);"
   ]
  },
  {
   "cell_type": "code",
   "execution_count": 9,
   "metadata": {},
   "outputs": [
    {
     "data": {
      "image/png": "[encoded data removed]",
      "text/plain": [
       "Figure(PyObject <Figure size 640x480 with 1 Axes>)"
      ]
     },
     "metadata": {},
     "output_type": "display_data"
    },
    {
     "data": {
      "text/plain": [
       "1-element Array{PyCall.PyObject,1}:\n",
       " PyObject <matplotlib.lines.Line2D object at 0x0000000031627668>"
      ]
     },
     "execution_count": 9,
     "metadata": {},
     "output_type": "execute_result"
    }
   ],
   "source": [
    "plot(x, y, \"r-\")"
   ]
  },
  {
   "cell_type": "code",
   "execution_count": 10,
   "metadata": {},
   "outputs": [
    {
     "data": {
      "text/plain": [
       "10×3 Array{Float64,2}:\n",
       "  1.03029     0.583019  -0.636307\n",
       " -0.104221    2.32343   -0.579622\n",
       "  0.00352906  1.73837   -0.339631\n",
       " -0.185514    1.84656   -0.338421\n",
       "  0.215487    1.76237   -0.669007\n",
       "  0.0973638   1.72275   -0.242436\n",
       "  0.175109    1.73558   -0.224883\n",
       "  0.608099    0.984967  -0.687713\n",
       "  0.379466    1.41376   -0.617553\n",
       "  1.15524     0.583776  -0.308279"
      ]
     },
     "execution_count": 10,
     "metadata": {},
     "output_type": "execute_result"
    }
   ],
   "source": [
    "x = randn(10, 2)\n",
    "W1 = randn(2, 4)\n",
    "b1 = randn(1, 4)\n",
    "W2 = randn(4, 3)\n",
    "b2 = randn(1, 3)\n",
    "h = x * W1 .+ b1;\n",
    "a = sigmoid(h)\n",
    "s = a * W2 .+ b2"
   ]
  },
  {
   "cell_type": "markdown",
   "metadata": {},
   "source": [
    "# Neural Network unit"
   ]
  },
  {
   "cell_type": "code",
   "execution_count": 1,
   "metadata": {},
   "outputs": [],
   "source": [
    "abstract type AbstractLayer\n",
    "end"
   ]
  },
  {
   "cell_type": "code",
   "execution_count": 2,
   "metadata": {},
   "outputs": [],
   "source": [
    "struct SigmoidLayer{T} <: AbstractLayer\n",
    "    # out::T\n",
    "end"
   ]
  },
  {
   "cell_type": "code",
   "execution_count": 25,
   "metadata": {},
   "outputs": [
    {
     "data": {
      "text/plain": [
       "forward (generic function with 3 methods)"
      ]
     },
     "execution_count": 25,
     "metadata": {},
     "output_type": "execute_result"
    }
   ],
   "source": [
    "function forward(l::SigmoidLayer{T}, x::AbstractArray{T}) where {T}\n",
    "    # l.out =\n",
    "    1 ./ (1 .+ exp.(-x))\n",
    "end\n",
    "\n",
    "# function backward(l::SigmoidLayer{T}, dout::T) where {T}\n",
    "#    dout .* (1 .- l.out) .* l.out\n",
    "# end"
   ]
  },
  {
   "cell_type": "code",
   "execution_count": 4,
   "metadata": {},
   "outputs": [],
   "source": [
    "mutable struct AffineLayer{T} <: AbstractLayer\n",
    "    W::AbstractMatrix{T}\n",
    "    b::AbstractVector{T}\n",
    "    x::AbstractArray{T}\n",
    "    dW::AbstractMatrix{T}\n",
    "    db::AbstractVector{T}\n",
    "    function (::Type{AffineLayer})(W::AbstractMatrix{T}, b::AbstractVector{T}) where {T}\n",
    "        layer = new{T}()\n",
    "        layer.W = W\n",
    "        layer.b = b\n",
    "        layer\n",
    "    end\n",
    "end"
   ]
  },
  {
   "cell_type": "code",
   "execution_count": 5,
   "metadata": {},
   "outputs": [
    {
     "data": {
      "text/plain": [
       "AffineLayer{Float64}([0.0846535 0.773086; 0.358338 -0.957471; 0.75408 0.325065], [-0.0163827, 0.133375, 0.0471493], #undef, #undef, #undef)"
      ]
     },
     "execution_count": 5,
     "metadata": {},
     "output_type": "execute_result"
    }
   ],
   "source": [
    "alayer = AffineLayer(randn(3, 2), randn(3))"
   ]
  },
  {
   "cell_type": "code",
   "execution_count": 42,
   "metadata": {},
   "outputs": [
    {
     "data": {
      "text/plain": [
       "3-element Array{Float64,1}:\n",
       " 1.7801671280521822\n",
       " 3.033189261920609 \n",
       " 2.801213843297795 "
      ]
     },
     "execution_count": 42,
     "metadata": {},
     "output_type": "execute_result"
    }
   ],
   "source": [
    "function forward(layer::AffineLayer{T}, x::AbstractArray{T}) where {T}\n",
    "    layer.x = x\n",
    "    # println(size(layer.W))\n",
    "    layer.W * x .+ layer.b\n",
    "end\n",
    "alayer = AffineLayer(randn(3, 2), randn(3))\n",
    "forward(alayer, [1.0; 2.0])"
   ]
  },
  {
   "cell_type": "code",
   "execution_count": 43,
   "metadata": {},
   "outputs": [],
   "source": [
    "mutable struct TwoLayerNet{T}\n",
    "    a1l::AffineLayer{T}\n",
    "    sig::SigmoidLayer{T}\n",
    "    a2l::AffineLayer{T}\n",
    "end"
   ]
  },
  {
   "cell_type": "code",
   "execution_count": 44,
   "metadata": {},
   "outputs": [],
   "source": [
    "function (::Type{TwoLayerNet{T}})(isize::Int, hsize::Int, osize::Int; \n",
    "        weight_init_std::Float64=0.01) where {T}\n",
    "    W1 = weight_init_std * randn(T, hsize, isize)\n",
    "    b1 = zeros(T, hsize)\n",
    "    W2 = weight_init_std * randn(T, osize, hsize)\n",
    "    b2 = zeros(T, osize)\n",
    "    a1l = AffineLayer(W1, b1)\n",
    "    sig = SigmoidLayer{T}()\n",
    "    a2l = AffineLayer(W2, b2)\n",
    "    TwoLayerNet(a1l, sig, a2l)\n",
    "end"
   ]
  },
  {
   "cell_type": "code",
   "execution_count": 45,
   "metadata": {},
   "outputs": [
    {
     "data": {
      "text/plain": [
       "predict (generic function with 1 method)"
      ]
     },
     "execution_count": 45,
     "metadata": {},
     "output_type": "execute_result"
    }
   ],
   "source": [
    "function predict(net::TwoLayerNet{T}, x::AbstractArray{T}) where {T}\n",
    "    # println(size(x))\n",
    "    a1 = forward(net.a1l, x');\n",
    "    z1 = forward(net.sig, a1');\n",
    "    a2 = forward(net.a2l, z1');\n",
    "    a2'\n",
    "end"
   ]
  },
  {
   "cell_type": "code",
   "execution_count": 46,
   "metadata": {},
   "outputs": [
    {
     "data": {
      "text/plain": [
       "10×3 LinearAlgebra.Adjoint{Float64,Array{Float64,2}}:\n",
       " 0.0125074  -0.00181134  -0.0125162\n",
       " 0.0125815  -0.00179635  -0.0125017\n",
       " 0.0125674  -0.00181852  -0.0125265\n",
       " 0.0125921  -0.00178069  -0.0124842\n",
       " 0.0124934  -0.00178807  -0.0124891\n",
       " 0.0123559  -0.00170234  -0.0123865\n",
       " 0.012501   -0.00178483  -0.0124857\n",
       " 0.0124401  -0.00177761  -0.0124753\n",
       " 0.0124352  -0.00175362  -0.0124478\n",
       " 0.0124128  -0.00170667  -0.0123935"
      ]
     },
     "execution_count": 46,
     "metadata": {},
     "output_type": "execute_result"
    }
   ],
   "source": [
    "x = randn(10, 2);\n",
    "model = TwoLayerNet{Float64}(2, 4, 3);\n",
    "predict(model, x)"
   ]
  }
 ],
 "metadata": {
  "kernelspec": {
   "display_name": "Julia 1.0.2",
   "language": "julia",
   "name": "julia-1.0"
  },
  "language_info": {
   "file_extension": ".jl",
   "mimetype": "application/julia",
   "name": "julia",
   "version": "1.0.2"
  }
 },
 "nbformat": 4,
 "nbformat_minor": 2
}
