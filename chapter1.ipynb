{
 "cells": [
  {
   "cell_type": "code",
   "execution_count": 2,
   "metadata": {},
   "outputs": [],
   "source": [
    "W1 = randn(2, 4);\n",
    "b1 = randn(1, 4);\n",
    "x = randn(10, 2);"
   ]
  },
  {
   "cell_type": "code",
   "execution_count": 3,
   "metadata": {},
   "outputs": [
    {
     "data": {
      "text/plain": [
       "2×4 Array{Float64,2}:\n",
       " -0.176466  -0.134384  0.48977    0.177343\n",
       "  2.03927    0.214369  0.357858  -0.355641"
      ]
     },
     "execution_count": 3,
     "metadata": {},
     "output_type": "execute_result"
    }
   ],
   "source": [
    "W1"
   ]
  },
  {
   "cell_type": "code",
   "execution_count": 4,
   "metadata": {},
   "outputs": [
    {
     "data": {
      "text/plain": [
       "1×4 Array{Float64,2}:\n",
       " 0.668485  -1.27137  -1.25461  2.0158"
      ]
     },
     "execution_count": 4,
     "metadata": {},
     "output_type": "execute_result"
    }
   ],
   "source": [
    "b1"
   ]
  },
  {
   "cell_type": "code",
   "execution_count": 5,
   "metadata": {},
   "outputs": [
    {
     "data": {
      "text/plain": [
       "10×2 Array{Float64,2}:\n",
       "  1.88128    -0.356403\n",
       " -1.1031     -1.60226 \n",
       " -0.823444    0.606247\n",
       "  0.347554    1.68827 \n",
       " -0.318608   -0.553743\n",
       "  1.12202     0.403993\n",
       "  0.922545    0.474341\n",
       "  0.0224175   0.469421\n",
       " -0.0272162   0.972226\n",
       "  0.607969   -0.730856"
      ]
     },
     "execution_count": 5,
     "metadata": {},
     "output_type": "execute_result"
    }
   ],
   "source": [
    "x"
   ]
  },
  {
   "cell_type": "code",
   "execution_count": 6,
   "metadata": {},
   "outputs": [
    {
     "data": {
      "text/plain": [
       "10×4 Array{Float64,2}:\n",
       " -0.390301  -1.60058   -0.460751  2.47618\n",
       " -2.4043    -1.4666    -2.36825   2.39   \n",
       "  2.0501    -1.03075   -1.44095   1.65416\n",
       "  4.05      -0.956159  -0.480224  1.47701\n",
       " -0.404525  -1.34726   -1.60881   2.15623\n",
       "  1.29434   -1.33554   -0.560503  2.0711 \n",
       "  1.473     -1.29366   -0.633025  2.01071\n",
       "  1.62181   -1.17375   -1.07564   1.85283\n",
       "  2.65592   -1.05929   -0.920017  1.66521\n",
       " -0.929216  -1.50974   -1.21838   2.38354"
      ]
     },
     "execution_count": 6,
     "metadata": {},
     "output_type": "execute_result"
    }
   ],
   "source": [
    "h = x * W1 .+ b1"
   ]
  },
  {
   "cell_type": "code",
   "execution_count": 7,
   "metadata": {},
   "outputs": [],
   "source": [
    "using PyPlot"
   ]
  },
  {
   "cell_type": "code",
   "execution_count": 8,
   "metadata": {},
   "outputs": [
    {
     "data": {
      "text/plain": [
       "sigmoid (generic function with 1 method)"
      ]
     },
     "execution_count": 8,
     "metadata": {},
     "output_type": "execute_result"
    }
   ],
   "source": [
    "sigmoid(x) = 1 ./ (1 .+ exp.(-x))"
   ]
  },
  {
   "cell_type": "code",
   "execution_count": 9,
   "metadata": {},
   "outputs": [],
   "source": [
    "x = -5:0.1:5;\n",
    "y = sigmoid(x);"
   ]
  },
  {
   "cell_type": "code",
   "execution_count": 10,
   "metadata": {},
   "outputs": [
    {
     "data": {
      "image/png": "[encoded data removed]",
      "text/plain": [
       "Figure(PyObject <Figure size 640x480 with 1 Axes>)"
      ]
     },
     "metadata": {},
     "output_type": "display_data"
    },
    {
     "data": {
      "text/plain": [
       "1-element Array{PyCall.PyObject,1}:\n",
       " PyObject <matplotlib.lines.Line2D object at 0x00000000301D3320>"
      ]
     },
     "execution_count": 10,
     "metadata": {},
     "output_type": "execute_result"
    }
   ],
   "source": [
    "plot(x, y, \"r-\")"
   ]
  },
  {
   "cell_type": "code",
   "execution_count": 11,
   "metadata": {},
   "outputs": [
    {
     "data": {
      "text/plain": [
       "10×3 Array{Float64,2}:\n",
       " 0.555128  -1.42476   -2.3792 \n",
       " 1.05881   -1.3311    -2.59861\n",
       " 0.709513  -1.35029   -2.42585\n",
       " 0.837656  -1.41651   -2.57508\n",
       " 1.25432   -0.965902  -2.32983\n",
       " 0.768845  -1.41135   -2.52542\n",
       " 1.05916   -1.48453   -2.80683\n",
       " 1.66538   -1.30426   -2.90848\n",
       " 0.612459  -1.46365   -2.42793\n",
       " 1.08732   -1.29788   -2.57057"
      ]
     },
     "execution_count": 11,
     "metadata": {},
     "output_type": "execute_result"
    }
   ],
   "source": [
    "x = randn(10, 2)\n",
    "W1 = randn(2, 4)\n",
    "b1 = randn(1, 4)\n",
    "W2 = randn(4, 3)\n",
    "b2 = randn(1, 3)\n",
    "h = x * W1 .+ b1;\n",
    "a = sigmoid(h)\n",
    "s = a * W2 .+ b2"
   ]
  },
  {
   "cell_type": "markdown",
   "metadata": {},
   "source": [
    "# Neural Network unit"
   ]
  },
  {
   "cell_type": "code",
   "execution_count": 12,
   "metadata": {},
   "outputs": [],
   "source": [
    "abstract type AbstractLayer\n",
    "end"
   ]
  },
  {
   "cell_type": "code",
   "execution_count": 13,
   "metadata": {},
   "outputs": [],
   "source": [
    "struct SigmoidLayer{T} <: AbstractLayer\n",
    "    # out::T\n",
    "end"
   ]
  },
  {
   "cell_type": "code",
   "execution_count": 14,
   "metadata": {},
   "outputs": [
    {
     "data": {
      "text/plain": [
       "forward (generic function with 1 method)"
      ]
     },
     "execution_count": 14,
     "metadata": {},
     "output_type": "execute_result"
    }
   ],
   "source": [
    "function forward(l::SigmoidLayer{T}, x::AbstractArray{T}) where {T}\n",
    "    # l.out =\n",
    "    1 ./ (1 .+ exp.(-x))\n",
    "end\n",
    "\n",
    "# function backward(l::SigmoidLayer{T}, dout::T) where {T}\n",
    "#    dout .* (1 .- l.out) .* l.out\n",
    "# end"
   ]
  },
  {
   "cell_type": "code",
   "execution_count": 15,
   "metadata": {},
   "outputs": [],
   "source": [
    "mutable struct AffineLayer{T} <: AbstractLayer\n",
    "    W::AbstractMatrix{T}\n",
    "    b::AbstractVector{T}\n",
    "    x::AbstractArray{T}\n",
    "    dW::AbstractMatrix{T}\n",
    "    db::AbstractVector{T}\n",
    "    function (::Type{AffineLayer})(W::AbstractMatrix{T}, b::AbstractVector{T}) where {T}\n",
    "        layer = new{T}()\n",
    "        layer.W = W\n",
    "        layer.b = b\n",
    "        layer\n",
    "    end\n",
    "end"
   ]
  },
  {
   "cell_type": "code",
   "execution_count": 16,
   "metadata": {},
   "outputs": [
    {
     "data": {
      "text/plain": [
       "AffineLayer{Float64}([0.708196 1.602; 0.238669 0.291523; 0.251338 1.58125], [-0.283056, 0.400715, -0.637368], #undef, #undef, #undef)"
      ]
     },
     "execution_count": 16,
     "metadata": {},
     "output_type": "execute_result"
    }
   ],
   "source": [
    "alayer = AffineLayer(randn(3, 2), randn(3))"
   ]
  },
  {
   "cell_type": "code",
   "execution_count": 17,
   "metadata": {},
   "outputs": [
    {
     "data": {
      "text/plain": [
       "3-element Array{Float64,1}:\n",
       " -0.17810227065276818\n",
       "  1.3981895311029313 \n",
       "  1.423842471337012  "
      ]
     },
     "execution_count": 17,
     "metadata": {},
     "output_type": "execute_result"
    }
   ],
   "source": [
    "function forward(layer::AffineLayer{T}, x::AbstractArray{T}) where {T}\n",
    "    layer.x = x\n",
    "    # println(size(layer.W))\n",
    "    layer.W * x .+ layer.b\n",
    "end\n",
    "alayer = AffineLayer(randn(3, 2), randn(3))\n",
    "forward(alayer, [1.0; 2.0])"
   ]
  },
  {
   "cell_type": "code",
   "execution_count": 18,
   "metadata": {},
   "outputs": [],
   "source": [
    "mutable struct TwoLayerNet{T}\n",
    "    a1l::AffineLayer{T}\n",
    "    sig::SigmoidLayer{T}\n",
    "    a2l::AffineLayer{T}\n",
    "end"
   ]
  },
  {
   "cell_type": "code",
   "execution_count": 19,
   "metadata": {},
   "outputs": [],
   "source": [
    "function (::Type{TwoLayerNet{T}})(isize::Int, hsize::Int, osize::Int; \n",
    "        weight_init_std::Float64=0.01) where {T}\n",
    "    W1 = weight_init_std * randn(T, hsize, isize)\n",
    "    b1 = zeros(T, hsize)\n",
    "    W2 = weight_init_std * randn(T, osize, hsize)\n",
    "    b2 = zeros(T, osize)\n",
    "    a1l = AffineLayer(W1, b1)\n",
    "    sig = SigmoidLayer{T}()\n",
    "    a2l = AffineLayer(W2, b2)\n",
    "    TwoLayerNet(a1l, sig, a2l)\n",
    "end"
   ]
  },
  {
   "cell_type": "code",
   "execution_count": 20,
   "metadata": {},
   "outputs": [
    {
     "data": {
      "text/plain": [
       "predict (generic function with 1 method)"
      ]
     },
     "execution_count": 20,
     "metadata": {},
     "output_type": "execute_result"
    }
   ],
   "source": [
    "function predict(net::TwoLayerNet{T}, x::AbstractArray{T}) where {T}\n",
    "    # println(size(x))\n",
    "    a1 = forward(net.a1l, x');\n",
    "    z1 = forward(net.sig, a1');\n",
    "    a2 = forward(net.a2l, z1');\n",
    "    a2'\n",
    "end"
   ]
  },
  {
   "cell_type": "code",
   "execution_count": 21,
   "metadata": {},
   "outputs": [
    {
     "data": {
      "text/plain": [
       "10×3 LinearAlgebra.Adjoint{Float64,Array{Float64,2}}:\n",
       " -0.00127403  0.0134742  0.0118748\n",
       " -0.00133992  0.0135269  0.0119219\n",
       " -0.00117608  0.0135215  0.0118196\n",
       " -0.00144212  0.0136255  0.0119969\n",
       " -0.00135244  0.0133947  0.0119142\n",
       " -0.00133291  0.0135482  0.0119201\n",
       " -0.00121933  0.0133671  0.0118283\n",
       " -0.00133086  0.0133598  0.0118967\n",
       " -0.00129375  0.0134334  0.0118823\n",
       " -0.00136533  0.0136925  0.0119571"
      ]
     },
     "execution_count": 21,
     "metadata": {},
     "output_type": "execute_result"
    }
   ],
   "source": [
    "x = randn(10, 2);\n",
    "model = TwoLayerNet{Float64}(2, 4, 3);\n",
    "predict(model, x)"
   ]
  },
  {
   "cell_type": "code",
   "execution_count": 22,
   "metadata": {},
   "outputs": [
    {
     "data": {
      "text/plain": [
       "backward (generic function with 1 method)"
      ]
     },
     "execution_count": 22,
     "metadata": {},
     "output_type": "execute_result"
    }
   ],
   "source": [
    "mutable struct MatMulLayer{T} <: AbstractLayer\n",
    "    W::AbstractMatrix{T}\n",
    "    x::AbstractArray{T}\n",
    "    dW::AbstractMatrix{T}\n",
    "    function (::Type{MatMulLayer})(W::AbstractMatrix{T}) where {T}\n",
    "        layer = new{T}()\n",
    "        layer.W = W\n",
    "        layer\n",
    "    end\n",
    "end\n",
    "\n",
    "function forward(l::MatMulLayer{T}, x::AbstractArray{T}) where {T}\n",
    "    l.x = x\n",
    "    out = x * l.W\n",
    "    out\n",
    "end\n",
    "\n",
    "function backward(l::MatMulLayer{T}, dout::AbstractArray{T}) where {T}\n",
    "    dx = dout * l.W'\n",
    "    dW = l.x' * dout\n",
    "    l.dW = dW\n",
    "    dx\n",
    "end"
   ]
  },
  {
   "cell_type": "code",
   "execution_count": 29,
   "metadata": {},
   "outputs": [
    {
     "data": {
      "text/plain": [
       "MatMulLayer{Float64}([1.0 2.0; 3.0 4.0], #undef, #undef)"
      ]
     },
     "execution_count": 29,
     "metadata": {},
     "output_type": "execute_result"
    }
   ],
   "source": [
    "ml = MatMulLayer([1. 2.; 3. 4.])"
   ]
  },
  {
   "cell_type": "code",
   "execution_count": 30,
   "metadata": {},
   "outputs": [
    {
     "data": {
      "text/plain": [
       "1×2 Array{Float64,2}:\n",
       " 1.0  2.0"
      ]
     },
     "execution_count": 30,
     "metadata": {},
     "output_type": "execute_result"
    }
   ],
   "source": [
    "x = [1. 2.]"
   ]
  },
  {
   "cell_type": "code",
   "execution_count": 31,
   "metadata": {},
   "outputs": [
    {
     "data": {
      "text/plain": [
       "1×2 Array{Float64,2}:\n",
       " 7.0  10.0"
      ]
     },
     "execution_count": 31,
     "metadata": {},
     "output_type": "execute_result"
    }
   ],
   "source": [
    "dout = forward(ml, x)"
   ]
  },
  {
   "cell_type": "code",
   "execution_count": 32,
   "metadata": {},
   "outputs": [
    {
     "data": {
      "text/plain": [
       "1×2 Array{Float64,2}:\n",
       " 27.0  61.0"
      ]
     },
     "execution_count": 32,
     "metadata": {},
     "output_type": "execute_result"
    }
   ],
   "source": [
    "backward(ml, dout)"
   ]
  },
  {
   "cell_type": "code",
   "execution_count": 33,
   "metadata": {},
   "outputs": [
    {
     "data": {
      "text/plain": [
       "1×2 Array{Float64,2}:\n",
       " 3.0  7.0"
      ]
     },
     "execution_count": 33,
     "metadata": {},
     "output_type": "execute_result"
    }
   ],
   "source": [
    "backward(ml, [1.0 1.0])"
   ]
  },
  {
   "cell_type": "code",
   "execution_count": 34,
   "metadata": {},
   "outputs": [
    {
     "name": "stdout",
     "output_type": "stream",
     "text": [
      "[1.0 2.0]\n",
      "[10.0 14.0]\n",
      "[38.0 86.0]\n",
      "[38.0 38.0; 38.0 38.0]\n",
      "[24.0, 24.0]\n"
     ]
    }
   ],
   "source": [
    "mutable struct AffineLayer{T} <: AbstractLayer\n",
    "    W::AbstractMatrix{T}\n",
    "    b::AbstractVector{T}\n",
    "    x::AbstractArray{T}\n",
    "    dW::AbstractMatrix{T}\n",
    "    db::AbstractVector{T}\n",
    "    function (::Type{AffineLayer})(W::AbstractMatrix{T}, b::AbstractVector{T}) where {T}\n",
    "        layer = new{T}()\n",
    "        layer.W = W\n",
    "        layer.b = b\n",
    "        layer.dW = zeros(size(W))\n",
    "        layer.db = zeros(size(b))\n",
    "        layer\n",
    "    end\n",
    "end\n",
    "\n",
    "function forward(l::AffineLayer{T}, x::AbstractArray{T}) where {T}\n",
    "    l.x = x\n",
    "    x * l.W .+ l.b'\n",
    "end\n",
    "\n",
    "function backward(l::AffineLayer{T}, dout::AbstractArray{T}) where {T}\n",
    "    dx = dout * l.W'\n",
    "    dW = dout * l.x'\n",
    "    db = vec(sum(dout, dims=2))\n",
    "    # println(\"dx $dx\")\n",
    "    # println(\"dW $(l.dW)\")\n",
    "    # println(\"db $(l.db)\")\n",
    "    l.dW .= dW\n",
    "    l.db .= db\n",
    "    dx\n",
    "end\n",
    "\n",
    "W = [1. 2.; 3. 4.]\n",
    "b = [3.; 4.]\n",
    "x = [1. 2.]\n",
    "println(x)\n",
    "alayer = AffineLayer([1. 2.; 3. 4.], [3.; 4.])\n",
    "dout = forward(alayer, x);\n",
    "println(dout)\n",
    "# println(dout)\n",
    "# [1. 1.] * W .+ b'\n",
    "# bout = backward(alayer, [1. 1.])\n",
    "# println(bout)\n",
    "# println(alayer.dW)\n",
    "# println(alayer.db)\n",
    "bout = backward(alayer, dout)\n",
    "println(bout)\n",
    "println(alayer.dW)\n",
    "println(alayer.db)"
   ]
  },
  {
   "cell_type": "code",
   "execution_count": null,
   "metadata": {},
   "outputs": [],
   "source": []
  }
 ],
 "metadata": {
  "kernelspec": {
   "display_name": "Julia 1.0.2",
   "language": "julia",
   "name": "julia-1.0"
  },
  "language_info": {
   "file_extension": ".jl",
   "mimetype": "application/julia",
   "name": "julia",
   "version": "1.0.2"
  }
 },
 "nbformat": 4,
 "nbformat_minor": 2
}
