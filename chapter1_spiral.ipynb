{
 "cells": [
  {
   "cell_type": "code",
   "execution_count": 1,
   "metadata": {},
   "outputs": [],
   "source": [
    "include(\".\\\\common\\\\layers.jl\")\n",
    "using Main.JLlayers\n",
    "using DelimitedFiles\n",
    "using Random"
   ]
  },
  {
   "cell_type": "markdown",
   "metadata": {},
   "source": [
    "### read spiral data"
   ]
  },
  {
   "cell_type": "code",
   "execution_count": 2,
   "metadata": {},
   "outputs": [
    {
     "data": {
      "text/plain": [
       "5×3 Array{Float64,2}:\n",
       " -0.0     0.0     0.0\n",
       " -0.001   0.01    0.0\n",
       "  0.0051  0.0193  0.0\n",
       " -0.0004  0.03    0.0\n",
       "  0.0143  0.0374  0.0"
      ]
     },
     "execution_count": 2,
     "metadata": {},
     "output_type": "execute_result"
    }
   ],
   "source": [
    "data = readdlm(\"data/sprial.dat\");\n",
    "data[1:5, :]"
   ]
  },
  {
   "cell_type": "markdown",
   "metadata": {},
   "source": [
    "### one_hot"
   ]
  },
  {
   "cell_type": "code",
   "execution_count": 3,
   "metadata": {},
   "outputs": [
    {
     "data": {
      "text/plain": [
       "one_hot (generic function with 1 method)"
      ]
     },
     "execution_count": 3,
     "metadata": {},
     "output_type": "execute_result"
    }
   ],
   "source": [
    "function one_hot(x::Array{Float64, 1}; num=3)\n",
    "    ans = zeros(size(x)[1], num)\n",
    "    for i in 1:size(x)[1]\n",
    "        idx = Int(x[i]) + 1\n",
    "        ans[i, idx] = 1\n",
    "    end\n",
    "    return ans\n",
    "end"
   ]
  },
  {
   "cell_type": "markdown",
   "metadata": {},
   "source": [
    "### Debug"
   ]
  },
  {
   "cell_type": "code",
   "execution_count": 4,
   "metadata": {},
   "outputs": [
    {
     "name": "stdout",
     "output_type": "stream",
     "text": [
      "[-0.0 0.0; -0.001 0.01; 0.0051 0.0193; -0.0004 0.03; 0.0143 0.0374],(5, 2)\n",
      "[0.0, 0.0, 0.0, 0.0, 0.0],(5,)\n",
      "[1.0 0.0 0.0; 1.0 0.0 0.0; 1.0 0.0 0.0; 1.0 0.0 0.0; 1.0 0.0 0.0]\n"
     ]
    }
   ],
   "source": [
    "x1 = data[1:5, 1:2]\n",
    "t1 = data[1:5, 3]\n",
    "to = one_hot(t1)\n",
    "println(x1, \",\", size(x1))\n",
    "println(t1, \",\", size(t1))\n",
    "println(to)"
   ]
  },
  {
   "cell_type": "code",
   "execution_count": 5,
   "metadata": {},
   "outputs": [
    {
     "data": {
      "text/plain": [
       "TwoLayerNet{Float64}(AffineLayer{Float64}([0.0 0.0 … 0.0 0.0; 0.0 0.0 … 0.0 0.0], [0.0, 0.0, 0.0, 0.0, 0.0, 0.0, 0.0, 0.0, 0.0, 0.0], #undef, [0.0 0.0 … 0.0 0.0; 0.0 0.0 … 0.0 0.0], [0.0, 0.0, 0.0, 0.0, 0.0, 0.0, 0.0, 0.0, 0.0, 0.0]), SigmoidLayer{Float64}(#undef), AffineLayer{Float64}([0.0 0.0 0.0; 0.0 0.0 0.0; … ; 0.0 0.0 0.0; 0.0 0.0 0.0], [0.0, 0.0, 0.0], #undef, [0.0 0.0 0.0; 0.0 0.0 0.0; … ; 0.0 0.0 0.0; 0.0 0.0 0.0], [0.0, 0.0, 0.0]), SoftmaxWithLossLayer{Float64}(3.9282128e-316, #undef, #undef))"
      ]
     },
     "execution_count": 5,
     "metadata": {},
     "output_type": "execute_result"
    }
   ],
   "source": [
    "batch_size = 1\n",
    "hidden_size = 10\n",
    "data_size = size(x1)[1]\n",
    "max_iters = data_size // batch_size\n",
    "net = TwoLayerNet{Float64}(2, hidden_size, 3)"
   ]
  },
  {
   "cell_type": "code",
   "execution_count": 6,
   "metadata": {},
   "outputs": [
    {
     "name": "stdout",
     "output_type": "stream",
     "text": [
      "1.0986121886681097\n",
      "(1.0986121886681097, Main.JLlayers.TwoLayerNetGrads{Float64}([0.0 0.0 0.0 0.0 0.0 0.0 0.0 0.0 0.0 0.0; 0.0 0.0 0.0 0.0 0.0 0.0 0.0 0.0 0.0 0.0], [0.0, 0.0, 0.0, 0.0, 0.0, 0.0, 0.0, 0.0, 0.0, 0.0], [-0.333333 0.166667 0.166667; -0.333333 0.166667 0.166667; -0.333333 0.166667 0.166667; -0.333333 0.166667 0.166667; -0.333333 0.166667 0.166667; -0.333333 0.166667 0.166667; -0.333333 0.166667 0.166667; -0.333333 0.166667 0.166667; -0.333333 0.166667 0.166667; -0.333333 0.166667 0.166667], [-0.666667, 0.333333, 0.333333]))\n"
     ]
    }
   ],
   "source": [
    "net = TwoLayerNet{Float64}(2, 10, 3)\n",
    "println(forward(net, x1, to))\n",
    "ypred = predict(net, x1[:, :])\n",
    "println(gradient(net, x1, to))"
   ]
  },
  {
   "cell_type": "markdown",
   "metadata": {},
   "source": [
    "### Training"
   ]
  },
  {
   "cell_type": "code",
   "execution_count": 7,
   "metadata": {},
   "outputs": [],
   "source": [
    "max_epoch = 1;\n",
    "batch_size = 30;\n",
    "hidden_size = 10;\n",
    "learning_rate = 0.1;"
   ]
  },
  {
   "cell_type": "code",
   "execution_count": 8,
   "metadata": {},
   "outputs": [
    {
     "data": {
      "text/plain": [
       "TwoLayerNet{Float64}(AffineLayer{Float64}([0.0 0.0 … 0.0 0.0; 0.0 0.0 … 0.0 0.0], [0.0, 0.0, 0.0, 0.0, 0.0, 0.0, 0.0, 0.0, 0.0, 0.0], #undef, [0.0 0.0 … 0.0 0.0; 0.0 0.0 … 0.0 0.0], [0.0, 0.0, 0.0, 0.0, 0.0, 0.0, 0.0, 0.0, 0.0, 0.0]), SigmoidLayer{Float64}(#undef), AffineLayer{Float64}([0.0 0.0 0.0; 0.0 0.0 0.0; … ; 0.0 0.0 0.0; 0.0 0.0 0.0], [0.0, 0.0, 0.0], #undef, [0.0 0.0 0.0; 0.0 0.0 0.0; … ; 0.0 0.0 0.0; 0.0 0.0 0.0], [0.0, 0.0, 0.0]), SoftmaxWithLossLayer{Float64}(5.7488506e-316, #undef, #undef))"
      ]
     },
     "execution_count": 8,
     "metadata": {},
     "output_type": "execute_result"
    }
   ],
   "source": [
    "x = data[:, 1:2]\n",
    "t = data[:, 3]\n",
    "to = one_hot(t)\n",
    "data_size = size(x)[1]\n",
    "max_iters = data_size // batch_size\n",
    "net = TwoLayerNet{Float64}(2, hidden_size, 3)"
   ]
  },
  {
   "cell_type": "code",
   "execution_count": 9,
   "metadata": {},
   "outputs": [
    {
     "name": "stdout",
     "output_type": "stream",
     "text": [
      "epoch 1   loss 1.893694548041942\n",
      "epoch 2   loss 2.040286908915635\n",
      "epoch 3   loss 1.8535330473622547\n",
      "epoch 4   loss 1.7153077229713063\n",
      "epoch 5   loss 1.623138842249491\n",
      "epoch 6   loss 1.5599221967750712\n",
      "epoch 7   loss 1.5151506006211044\n",
      "epoch 8   loss 1.4824242275520274\n",
      "epoch 9   loss 1.4578077383467642\n",
      "epoch 10   loss 1.4388164908643024\n",
      "epoch 11   loss 1.423834947275846\n",
      "epoch 12   loss 1.4117827877300548\n",
      "epoch 13   loss 1.401918591890376\n",
      "epoch 14   loss 1.3937212226387714\n",
      "epoch 15   loss 1.386816262993173\n",
      "epoch 16   loss 1.38092926037995\n",
      "epoch 17   loss 1.3758553152465018\n",
      "epoch 18   loss 1.3714388671747708\n",
      "epoch 19   loss 1.367559984073432\n",
      "epoch 20   loss 1.36412488526467\n",
      "epoch 21   loss 1.3610592755378281\n",
      "epoch 22   loss 1.3583035801978567\n",
      "epoch 23   loss 1.355809488304407\n",
      "epoch 24   loss 1.3535374111927871\n",
      "epoch 25   loss 1.351454591694927\n",
      "epoch 26   loss 1.3495336833485765\n",
      "epoch 27   loss 1.3477516746784146\n",
      "epoch 28   loss 1.3460890714342129\n",
      "epoch 29   loss 1.3445292757945657\n",
      "epoch 30   loss 1.3430581200199183\n",
      "epoch 31   loss 1.341663525484881\n",
      "epoch 32   loss 1.3403352681698166\n",
      "epoch 33   loss 1.3390648397058846\n",
      "epoch 34   loss 1.337845399717923\n",
      "epoch 35   loss 1.3366718209740718\n",
      "epoch 36   loss 1.335540833943082\n",
      "epoch 37   loss 1.3344512816976009\n",
      "epoch 38   loss 1.3334044992206058\n",
      "epoch 39   loss 1.3324048320923647\n",
      "epoch 40   loss 1.3314603066018218\n",
      "epoch 41   loss 1.3305834540957602\n",
      "epoch 42   loss 1.3297922736889718\n",
      "epoch 43   loss 1.3291112859085943\n",
      "epoch 44   loss 1.328572582978029\n",
      "epoch 45   loss 1.3282167198330541\n",
      "epoch 46   loss 1.328093220033283\n",
      "epoch 47   loss 1.3282604074157653\n",
      "epoch 48   loss 1.3287842417311055\n",
      "epoch 49   loss 1.3297358644656228\n",
      "epoch 50   loss 1.3311876767668611\n",
      "epoch 51   loss 1.3332079873224498\n",
      "epoch 52   loss 1.3358545698111475\n",
      "epoch 53   loss 1.3391678074906317\n",
      "epoch 54   loss 1.3431643910668334\n",
      "epoch 55   loss 1.347832667746123\n",
      "epoch 56   loss 1.3531306205623586\n",
      "epoch 57   loss 1.3589870595280618\n",
      "epoch 58   loss 1.3653060067211231\n",
      "epoch 59   loss 1.3719736277077632\n",
      "epoch 60   loss 1.3788665989392477\n",
      "epoch 61   loss 1.3858606370743303\n",
      "epoch 62   loss 1.392838064019484\n",
      "epoch 63   loss 1.3996936452181874\n",
      "epoch 64   loss 1.406338374892703\n",
      "epoch 65   loss 1.4127012648090755\n",
      "epoch 66   loss 1.4187294521260383\n",
      "epoch 67   loss 1.424387064200557\n",
      "epoch 68   loss 1.4296532897106378\n",
      "epoch 69   loss 1.4345200469516253\n",
      "epoch 70   loss 1.4389895500867804\n",
      "epoch 71   loss 1.443071980225729\n",
      "epoch 72   loss 1.4467833863055826\n",
      "epoch 73   loss 1.4501438772484339\n",
      "epoch 74   loss 1.4531761221346327\n",
      "epoch 75   loss 1.455904146476546\n",
      "epoch 76   loss 1.4583523963809852\n",
      "epoch 77   loss 1.4605450348330233\n",
      "epoch 78   loss 1.4625054325119986\n",
      "epoch 79   loss 1.4642558171902051\n",
      "epoch 80   loss 1.4658170492674363\n",
      "epoch 81   loss 1.4672084953019842\n",
      "epoch 82   loss 1.4684479758523588\n",
      "epoch 83   loss 1.4695517681640413\n",
      "epoch 84   loss 1.4705346480271386\n",
      "epoch 85   loss 1.4714099584159697\n",
      "epoch 86   loss 1.4721896952927944\n",
      "epoch 87   loss 1.4728846032466425\n",
      "epoch 88   loss 1.4735042754954555\n",
      "epoch 89   loss 1.4740572542635293\n",
      "epoch 90   loss 1.4745511287145194\n",
      "epoch 91   loss 1.4749926285270278\n",
      "epoch 92   loss 1.4753877118931615\n",
      "epoch 93   loss 1.475741647242109\n",
      "epoch 94   loss 1.4760590883758817\n",
      "epoch 95   loss 1.4763441429822954\n",
      "epoch 96   loss 1.4766004346849217\n",
      "epoch 97   loss 1.4768311589206273\n",
      "epoch 98   loss 1.4770391330179162\n",
      "epoch 99   loss 1.4772268408959675\n",
      "epoch 100   loss 1.4773964728246263\n",
      "epoch 101   loss 1.4775499606871805\n",
      "epoch 102   loss 1.4776890091762818\n",
      "epoch 103   loss 1.4778151233332408\n",
      "epoch 104   loss 1.4779296328153617\n",
      "epoch 105   loss 1.478033713247486\n",
      "epoch 106   loss 1.4781284049841603\n",
      "epoch 107   loss 1.4782146295791294\n",
      "epoch 108   loss 1.4782932042299968\n",
      "epoch 109   loss 1.4783648544384889\n",
      "epoch 110   loss 1.4784302251011172\n",
      "epoch 111   loss 1.4784898902213424\n",
      "epoch 112   loss 1.478544361412693\n",
      "epoch 113   loss 1.4785940953426422\n",
      "epoch 114   loss 1.4786395002493482\n",
      "epoch 115   loss 1.4786809416474749\n",
      "epoch 116   loss 1.4787187473252077\n",
      "epoch 117   loss 1.4787532117219517\n",
      "epoch 118   loss 1.4787845997651228\n",
      "epoch 119   loss 1.4788131502345863\n",
      "epoch 120   loss 1.478839078714654\n",
      "epoch 121   loss 1.4788625801859645\n",
      "epoch 122   loss 1.4788838313028863\n",
      "epoch 123   loss 1.478902992396249\n",
      "epoch 124   loss 1.4789202092361156\n",
      "epoch 125   loss 1.4789356145848385\n",
      "epoch 126   loss 1.4789493295667453\n",
      "epoch 127   loss 1.4789614648774276\n",
      "epoch 128   loss 1.4789721218526302\n",
      "epoch 129   loss 1.4789813934141782\n",
      "epoch 130   loss 1.478989364908123\n",
      "epoch 131   loss 1.4789961148483628\n",
      "epoch 132   loss 1.4790017155772734\n",
      "epoch 133   loss 1.4790062338534191\n",
      "epoch 134   loss 1.4790097313751427\n",
      "epoch 135   loss 1.4790122652476942\n",
      "epoch 136   loss 1.4790138884006037\n",
      "epoch 137   loss 1.479014649961168\n",
      "epoch 138   loss 1.4790145955891534\n",
      "epoch 139   loss 1.479013767777219\n",
      "epoch 140   loss 1.4790122061209767\n",
      "epoch 141   loss 1.4790099475621372\n",
      "epoch 142   loss 1.4790070266077608\n",
      "epoch 143   loss 1.4790034755282684\n",
      "epoch 144   loss 1.4789993245365454\n",
      "epoch 145   loss 1.4789946019501898\n",
      "epoch 146   loss 1.4789893343387173\n",
      "epoch 147   loss 1.4789835466573111\n",
      "epoch 148   loss 1.4789772623685296\n",
      "epoch 149   loss 1.4789705035532186\n",
      "epoch 150   loss 1.4789632910117232\n",
      "epoch 151   loss 1.4789556443563807\n",
      "epoch 152   loss 1.4789475820961577\n",
      "epoch 153   loss 1.4789391217142052\n",
      "epoch 154   loss 1.4789302797390083\n",
      "epoch 155   loss 1.4789210718097505\n",
      "epoch 156   loss 1.4789115127364307\n",
      "epoch 157   loss 1.4789016165552178\n",
      "epoch 158   loss 1.4788913965794823\n",
      "epoch 159   loss 1.478880865446893\n",
      "epoch 160   loss 1.478870035162927\n",
      "epoch 161   loss 1.4788589171411064\n",
      "epoch 162   loss 1.4788475222402517\n",
      "epoch 163   loss 1.4788358607989944\n",
      "epoch 164   loss 1.4788239426677925\n",
      "epoch 165   loss 1.4788117772386418\n",
      "epoch 166   loss 1.4787993734726874\n",
      "epoch 167   loss 1.4787867399258947\n",
      "epoch 168   loss 1.4787738847729304\n",
      "epoch 169   loss 1.4787608158294132\n",
      "epoch 170   loss 1.478747540572643\n",
      "epoch 171   loss 1.4787340661609318\n",
      "epoch 172   loss 1.4787203994516473\n",
      "epoch 173   loss 1.4787065470180585\n",
      "epoch 174   loss 1.4786925151650785\n",
      "epoch 175   loss 1.4786783099439809\n",
      "epoch 176   loss 1.478663937166173\n",
      "epoch 177   loss 1.478649402416078\n",
      "epoch 178   loss 1.4786347110632099\n",
      "epoch 179   loss 1.4786198682734812\n",
      "epoch 180   loss 1.47860487901981\n",
      "epoch 181   loss 1.4785897480920625\n",
      "epoch 182   loss 1.4785744801063907\n",
      "epoch 183   loss 1.4785590795139945\n",
      "epoch 184   loss 1.478543550609356\n",
      "epoch 185   loss 1.4785278975379765\n",
      "epoch 186   loss 1.478512124303648\n",
      "epoch 187   loss 1.478496234775299\n",
      "epoch 188   loss 1.4784802326934314\n",
      "epoch 189   loss 1.4784641216761834\n",
      "epoch 190   loss 1.4784479052250366\n",
      "epoch 191   loss 1.4784315867301987\n",
      "epoch 192   loss 1.4784151694756698\n",
      "epoch 193   loss 1.4783986566440288\n",
      "epoch 194   loss 1.4783820513209416\n",
      "epoch 195   loss 1.478365356499417\n",
      "epoch 196   loss 1.4783485750838323\n",
      "epoch 197   loss 1.478331709893724\n",
      "epoch 198   loss 1.4783147636673797\n",
      "epoch 199   loss 1.4782977390652268\n",
      "epoch 200   loss 1.4782806386730427\n",
      "epoch 201   loss 1.4782634650049906\n",
      "epoch 202   loss 1.4782462205064877\n",
      "epoch 203   loss 1.4782289075569286\n",
      "epoch 204   loss 1.4782115284722603\n",
      "epoch 205   loss 1.4781940855074263\n",
      "epoch 206   loss 1.4781765808586789\n",
      "epoch 207   loss 1.4781590166657765\n",
      "epoch 208   loss 1.4781413950140672\n",
      "epoch 209   loss 1.4781237179364684\n",
      "epoch 210   loss 1.4781059874153428\n",
      "epoch 211   loss 1.4780882053842874\n",
      "epoch 212   loss 1.4780703737298264\n",
      "epoch 213   loss 1.4780524942930295\n",
      "epoch 214   loss 1.478034568871045\n",
      "epoch 215   loss 1.4780165992185625\n",
      "epoch 216   loss 1.4779985870492052\n",
      "epoch 217   loss 1.477980534036858\n",
      "epoch 218   loss 1.4779624418169302\n",
      "epoch 219   loss 1.4779443119875637\n",
      "epoch 220   loss 1.4779261461107827\n",
      "epoch 221   loss 1.477907945713595\n",
      "epoch 222   loss 1.4778897122890378\n",
      "epoch 223   loss 1.4778714472971866\n",
      "epoch 224   loss 1.4778531521661085\n",
      "epoch 225   loss 1.4778348282927865\n",
      "epoch 226   loss 1.4778164770439908\n",
      "epoch 227   loss 1.477798099757127\n",
      "epoch 228   loss 1.4777796977410353\n",
      "epoch 229   loss 1.4777612722767715\n",
      "epoch 230   loss 1.4777428246183395\n",
      "epoch 231   loss 1.4777243559934095\n",
      "epoch 232   loss 1.477705867603996\n",
      "epoch 233   loss 1.4776873606271175\n",
      "epoch 234   loss 1.4776688362154262\n",
      "epoch 235   loss 1.4776502954978132\n",
      "epoch 236   loss 1.4776317395799956\n",
      "epoch 237   loss 1.4776131695450725\n",
      "epoch 238   loss 1.4775945864540736\n",
      "epoch 239   loss 1.4775759913464754\n",
      "epoch 240   loss 1.4775573852407073\n",
      "epoch 241   loss 1.4775387691346338\n",
      "epoch 242   loss 1.4775201440060288\n",
      "epoch 243   loss 1.477501510813021\n",
      "epoch 244   loss 1.477482870494536\n",
      "epoch 245   loss 1.477464223970717\n",
      "epoch 246   loss 1.4774455721433353\n",
      "epoch 247   loss 1.4774269158961855\n",
      "epoch 248   loss 1.4774082560954662\n",
      "epoch 249   loss 1.477389593590155\n",
      "epoch 250   loss 1.4773709292123667\n",
      "epoch 251   loss 1.4773522637777008\n",
      "epoch 252   loss 1.4773335980855822\n",
      "epoch 253   loss 1.4773149329195874\n",
      "epoch 254   loss 1.4772962690477656\n",
      "epoch 255   loss 1.4772776072229472\n",
      "epoch 256   loss 1.4772589481830458\n",
      "epoch 257   loss 1.4772402926513493\n",
      "epoch 258   loss 1.4772216413368067\n",
      "epoch 259   loss 1.4772029949343044\n",
      "epoch 260   loss 1.4771843541249352\n",
      "epoch 261   loss 1.4771657195762622\n",
      "epoch 262   loss 1.4771470919425749\n",
      "epoch 263   loss 1.4771284718651363\n",
      "epoch 264   loss 1.4771098599724302\n",
      "epoch 265   loss 1.4770912568803936\n",
      "epoch 266   loss 1.4770726631926545\n",
      "epoch 267   loss 1.4770540795007503\n",
      "epoch 268   loss 1.4770355063843543\n",
      "epoch 269   loss 1.477016944411488\n",
      "epoch 270   loss 1.4769983941387337\n",
      "epoch 271   loss 1.4769798561114378\n",
      "epoch 272   loss 1.4769613308639138\n",
      "epoch 273   loss 1.476942818919639\n",
      "epoch 274   loss 1.4769243207914449\n",
      "epoch 275   loss 1.476905836981707\n",
      "epoch 276   loss 1.476887367982528\n",
      "epoch 277   loss 1.4768689142759204\n",
      "epoch 278   loss 1.4768504763339787\n",
      "epoch 279   loss 1.4768320546190565\n",
      "epoch 280   loss 1.4768136495839332\n",
      "epoch 281   loss 1.476795261671981\n",
      "epoch 282   loss 1.4767768913173265\n",
      "epoch 283   loss 1.476758538945011\n",
      "epoch 284   loss 1.4767402049711473\n",
      "epoch 285   loss 1.4767218898030712\n",
      "epoch 286   loss 1.4767035938394915\n",
      "epoch 287   loss 1.4766853174706407\n",
      "epoch 288   loss 1.4766670610784165\n",
      "epoch 289   loss 1.476648825036523\n",
      "epoch 290   loss 1.4766306097106139\n",
      "epoch 291   loss 1.4766124154584246\n",
      "epoch 292   loss 1.4765942426299095\n",
      "epoch 293   loss 1.4765760915673736\n",
      "epoch 294   loss 1.4765579626055987\n",
      "epoch 295   loss 1.4765398560719751\n",
      "epoch 296   loss 1.476521772286622\n",
      "epoch 297   loss 1.476503711562514\n",
      "epoch 298   loss 1.4764856742055976\n",
      "epoch 299   loss 1.4764676605149123\n",
      "epoch 300   loss 1.4764496707827073\n"
     ]
    }
   ],
   "source": [
    "data = readdlm(\"data/sprial.dat\");\n",
    "max_epoch = 300;\n",
    "batch_size = 30;\n",
    "hidden_size = 10;\n",
    "learning_rate = 1.0;\n",
    "net = TwoLayerNet{Float64}(2, hidden_size, 3)\n",
    "# @show model.a1l.W\n",
    "# @show model.a1l.b\n",
    "# @show model.a2l.W\n",
    "# @show model.a2l.b\n",
    "data_size = size(data)[1]\n",
    "max_iters = data_size // batch_size\n",
    "total_loss = 0\n",
    "loss_count = 0\n",
    "loss_list = []\n",
    "\n",
    "for epoch in 1:max_epoch\n",
    "    # println(\"epoch $epoch\")\n",
    "    \n",
    "    # shuffle data\n",
    "    # idx = randperm(data_size)\n",
    "    # println(idx)\n",
    "    idx = 1:300\n",
    "    data = data[idx, :]\n",
    "    xorg = data[1:end, 1:2]\n",
    "    torg = one_hot(data[1:end, 3])\n",
    "    \n",
    "\n",
    "    # for each batch\n",
    "    for iters in 1:max_iters\n",
    "        iters = Int(iters)\n",
    "        ix = 1 + (iters - 1) * batch_size\n",
    "        bX = xorg[ix:(ix + batch_size) - 1, :]\n",
    "        bT = torg[ix:(ix + batch_size) - 1, :]\n",
    "        # print(bX)\n",
    "        \n",
    "        # @show bX\n",
    "         # display(bT)\n",
    "\n",
    "        # println(\"batch $iters, loss $ls\")\n",
    "        _loss, grad = gradient(net, bX, bT)\n",
    "        if iters == 1\n",
    "            # println(_loss)\n",
    "            # println(grad.W1)\n",
    "            # println(grad.b1)\n",
    "            # println(grad.W2)\n",
    "            # println(grad.b2)\n",
    "        end\n",
    "        applygradient!(net, grad, learning_rate)\n",
    "        # println(\"$ix $iters $_loss\")\n",
    "        total_loss += _loss\n",
    "        loss_count += 1\n",
    "        \n",
    "        # 定期的に学習経過を出力\n",
    "        if iters % 10 == 0\n",
    "            avg_loss = total_loss / loss_count\n",
    "            println(\"epoch $epoch   loss $(avg_loss)\")\n",
    "            push!(loss_list, avg_loss)\n",
    "            total_loss, loss_count = 0, 0\n",
    "        end\n",
    "    end\n",
    "end"
   ]
  },
  {
   "cell_type": "code",
   "execution_count": 10,
   "metadata": {},
   "outputs": [
    {
     "name": "stderr",
     "output_type": "stream",
     "text": [
      "WARNING: both PyPlot and Base export \"axes\"; uses of it in module Main must be qualified\n"
     ]
    }
   ],
   "source": [
    "using PyPlot"
   ]
  },
  {
   "cell_type": "code",
   "execution_count": 11,
   "metadata": {},
   "outputs": [
    {
     "data": {
      "image/png": "[encoded data removed]",
      "text/plain": [
       "Figure(PyObject <Figure size 640x480 with 1 Axes>)"
      ]
     },
     "metadata": {},
     "output_type": "display_data"
    },
    {
     "data": {
      "text/plain": [
       "1-element Array{PyCall.PyObject,1}:\n",
       " PyObject <matplotlib.lines.Line2D object at 0x0000000032BC5400>"
      ]
     },
     "execution_count": 11,
     "metadata": {},
     "output_type": "execute_result"
    }
   ],
   "source": [
    "plot(loss_list)"
   ]
  },
  {
   "cell_type": "code",
   "execution_count": null,
   "metadata": {},
   "outputs": [],
   "source": []
  }
 ],
 "metadata": {
  "kernelspec": {
   "display_name": "Julia 1.0.2",
   "language": "julia",
   "name": "julia-1.0"
  },
  "language_info": {
   "file_extension": ".jl",
   "mimetype": "application/julia",
   "name": "julia",
   "version": "1.0.2"
  }
 },
 "nbformat": 4,
 "nbformat_minor": 2
}
